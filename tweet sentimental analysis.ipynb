{
 "cells": [
  {
   "cell_type": "code",
   "execution_count": 1,
   "id": "b6fdad22",
   "metadata": {},
   "outputs": [],
   "source": [
    "import pandas as p\n",
    "import numpy as n\n",
    "import seaborn as s\n",
    "import matplotlib.pyplot as py\n",
    "import re\n",
    "import string\n",
    "import nltk\n",
    "from nltk.corpus import stopwords\n",
    "from nltk.stem import SnowballStemmer, WordNetLemmatizer,PorterStemmer\n",
    "from sklearn.linear_model import LogisticRegression\n",
    "from sklearn.naive_bayes import MultinomialNB\n",
    "from sklearn.tree import DecisionTreeClassifier\n",
    "from sklearn.ensemble import RandomForestClassifier\n",
    "from sklearn.ensemble import AdaBoostClassifier\n",
    "from sklearn.svm import LinearSVC\n",
    "from sklearn.utils import compute_class_weight\n",
    "from sklearn.pipeline import Pipeline\n",
    "from sklearn.base import BaseEstimator, TransformerMixin"
   ]
  },
  {
   "cell_type": "code",
   "execution_count": 103,
   "id": "bc11932d",
   "metadata": {},
   "outputs": [],
   "source": [
    "# nltk.download('stopwords')"
   ]
  },
  {
   "cell_type": "code",
   "execution_count": 104,
   "id": "a89f0815",
   "metadata": {},
   "outputs": [],
   "source": [
    "tweet_test = p.read_csv('test_df.csv',encoding='ISO-8859-1',index_col=False)\n",
    "tweet_train = p.read_csv('train.csv',encoding='ISO-8859-1',index_col=False)"
   ]
  },
  {
   "cell_type": "code",
   "execution_count": 105,
   "id": "33227379",
   "metadata": {
    "scrolled": true
   },
   "outputs": [
    {
     "data": {
      "text/html": [
       "<div>\n",
       "<style scoped>\n",
       "    .dataframe tbody tr th:only-of-type {\n",
       "        vertical-align: middle;\n",
       "    }\n",
       "\n",
       "    .dataframe tbody tr th {\n",
       "        vertical-align: top;\n",
       "    }\n",
       "\n",
       "    .dataframe thead th {\n",
       "        text-align: right;\n",
       "    }\n",
       "</style>\n",
       "<table border=\"1\" class=\"dataframe\">\n",
       "  <thead>\n",
       "    <tr style=\"text-align: right;\">\n",
       "      <th></th>\n",
       "      <th>Unnamed: 0</th>\n",
       "      <th>textID</th>\n",
       "      <th>text</th>\n",
       "      <th>sentiment</th>\n",
       "    </tr>\n",
       "  </thead>\n",
       "  <tbody>\n",
       "    <tr>\n",
       "      <th>0</th>\n",
       "      <td>1</td>\n",
       "      <td>96d74cb729</td>\n",
       "      <td>Shanghai is also really exciting (precisely -...</td>\n",
       "      <td>positive</td>\n",
       "    </tr>\n",
       "    <tr>\n",
       "      <th>1</th>\n",
       "      <td>2</td>\n",
       "      <td>eee518ae67</td>\n",
       "      <td>Recession hit Veronique Branquinho, she has to...</td>\n",
       "      <td>negative</td>\n",
       "    </tr>\n",
       "  </tbody>\n",
       "</table>\n",
       "</div>"
      ],
      "text/plain": [
       "   Unnamed: 0      textID                                               text  \\\n",
       "0           1  96d74cb729   Shanghai is also really exciting (precisely -...   \n",
       "1           2  eee518ae67  Recession hit Veronique Branquinho, she has to...   \n",
       "\n",
       "  sentiment  \n",
       "0  positive  \n",
       "1  negative  "
      ]
     },
     "execution_count": 105,
     "metadata": {},
     "output_type": "execute_result"
    }
   ],
   "source": [
    "tweet_test.head(2)"
   ]
  },
  {
   "cell_type": "code",
   "execution_count": 106,
   "id": "ba332fd5",
   "metadata": {},
   "outputs": [
    {
     "data": {
      "text/html": [
       "<div>\n",
       "<style scoped>\n",
       "    .dataframe tbody tr th:only-of-type {\n",
       "        vertical-align: middle;\n",
       "    }\n",
       "\n",
       "    .dataframe tbody tr th {\n",
       "        vertical-align: top;\n",
       "    }\n",
       "\n",
       "    .dataframe thead th {\n",
       "        text-align: right;\n",
       "    }\n",
       "</style>\n",
       "<table border=\"1\" class=\"dataframe\">\n",
       "  <thead>\n",
       "    <tr style=\"text-align: right;\">\n",
       "      <th></th>\n",
       "      <th>Unnamed: 0</th>\n",
       "      <th>textID</th>\n",
       "      <th>text</th>\n",
       "      <th>selected_text</th>\n",
       "      <th>sentiment</th>\n",
       "    </tr>\n",
       "  </thead>\n",
       "  <tbody>\n",
       "    <tr>\n",
       "      <th>0</th>\n",
       "      <td>1</td>\n",
       "      <td>549e992a42</td>\n",
       "      <td>Sooo SAD I will miss you here in San Diego!!!</td>\n",
       "      <td>Sooo SAD</td>\n",
       "      <td>negative</td>\n",
       "    </tr>\n",
       "    <tr>\n",
       "      <th>1</th>\n",
       "      <td>2</td>\n",
       "      <td>088c60f138</td>\n",
       "      <td>my boss is bullying me...</td>\n",
       "      <td>bullying me</td>\n",
       "      <td>negative</td>\n",
       "    </tr>\n",
       "  </tbody>\n",
       "</table>\n",
       "</div>"
      ],
      "text/plain": [
       "   Unnamed: 0      textID                                            text  \\\n",
       "0           1  549e992a42   Sooo SAD I will miss you here in San Diego!!!   \n",
       "1           2  088c60f138                       my boss is bullying me...   \n",
       "\n",
       "  selected_text sentiment  \n",
       "0      Sooo SAD  negative  \n",
       "1   bullying me  negative  "
      ]
     },
     "execution_count": 106,
     "metadata": {},
     "output_type": "execute_result"
    }
   ],
   "source": [
    "tweet_train.head(2)"
   ]
  },
  {
   "cell_type": "code",
   "execution_count": 107,
   "id": "fcbd6ebc",
   "metadata": {},
   "outputs": [
    {
     "name": "stdout",
     "output_type": "stream",
     "text": [
      "(16363, 5)\n",
      "(2104, 4)\n"
     ]
    }
   ],
   "source": [
    "print(tweet_train.shape)\n",
    "print(tweet_test.shape)"
   ]
  },
  {
   "cell_type": "code",
   "execution_count": 108,
   "id": "0583e858",
   "metadata": {},
   "outputs": [
    {
     "name": "stdout",
     "output_type": "stream",
     "text": [
      "<class 'pandas.core.frame.DataFrame'>\n",
      "RangeIndex: 16363 entries, 0 to 16362\n",
      "Data columns (total 5 columns):\n",
      " #   Column         Non-Null Count  Dtype \n",
      "---  ------         --------------  ----- \n",
      " 0   Unnamed: 0     16363 non-null  int64 \n",
      " 1   textID         16363 non-null  object\n",
      " 2   text           16363 non-null  object\n",
      " 3   selected_text  16363 non-null  object\n",
      " 4   sentiment      16363 non-null  object\n",
      "dtypes: int64(1), object(4)\n",
      "memory usage: 639.3+ KB\n"
     ]
    }
   ],
   "source": [
    "tweet_train.info()"
   ]
  },
  {
   "cell_type": "markdown",
   "id": "1875ed42",
   "metadata": {},
   "source": [
    "# DATA CLEANING"
   ]
  },
  {
   "cell_type": "code",
   "execution_count": 109,
   "id": "ecc7376b",
   "metadata": {},
   "outputs": [],
   "source": [
    "tweet_train.drop(['Unnamed: 0','textID','selected_text'],inplace=True,axis=1)"
   ]
  },
  {
   "cell_type": "code",
   "execution_count": 110,
   "id": "407c1739",
   "metadata": {},
   "outputs": [],
   "source": [
    "tweet_test.drop(['Unnamed: 0','textID'],inplace=True,axis=1)"
   ]
  },
  {
   "cell_type": "code",
   "execution_count": 111,
   "id": "cbcb3907",
   "metadata": {},
   "outputs": [
    {
     "data": {
      "text/plain": [
       "text         0\n",
       "sentiment    0\n",
       "dtype: int64"
      ]
     },
     "execution_count": 111,
     "metadata": {},
     "output_type": "execute_result"
    }
   ],
   "source": [
    "tweet_train.isna().sum()"
   ]
  },
  {
   "cell_type": "code",
   "execution_count": 112,
   "id": "29a124f1",
   "metadata": {},
   "outputs": [
    {
     "data": {
      "text/plain": [
       "text         0\n",
       "sentiment    0\n",
       "dtype: int64"
      ]
     },
     "execution_count": 112,
     "metadata": {},
     "output_type": "execute_result"
    }
   ],
   "source": [
    "tweet_test.isna().sum()"
   ]
  },
  {
   "cell_type": "code",
   "execution_count": 113,
   "id": "1cdcbec8",
   "metadata": {},
   "outputs": [
    {
     "data": {
      "text/html": [
       "<div>\n",
       "<style scoped>\n",
       "    .dataframe tbody tr th:only-of-type {\n",
       "        vertical-align: middle;\n",
       "    }\n",
       "\n",
       "    .dataframe tbody tr th {\n",
       "        vertical-align: top;\n",
       "    }\n",
       "\n",
       "    .dataframe thead th {\n",
       "        text-align: right;\n",
       "    }\n",
       "</style>\n",
       "<table border=\"1\" class=\"dataframe\">\n",
       "  <thead>\n",
       "    <tr style=\"text-align: right;\">\n",
       "      <th></th>\n",
       "      <th>text</th>\n",
       "    </tr>\n",
       "    <tr>\n",
       "      <th>sentiment</th>\n",
       "      <th></th>\n",
       "    </tr>\n",
       "  </thead>\n",
       "  <tbody>\n",
       "    <tr>\n",
       "      <th>negative</th>\n",
       "      <td>7781</td>\n",
       "    </tr>\n",
       "    <tr>\n",
       "      <th>positive</th>\n",
       "      <td>8582</td>\n",
       "    </tr>\n",
       "  </tbody>\n",
       "</table>\n",
       "</div>"
      ],
      "text/plain": [
       "           text\n",
       "sentiment      \n",
       "negative   7781\n",
       "positive   8582"
      ]
     },
     "execution_count": 113,
     "metadata": {},
     "output_type": "execute_result"
    }
   ],
   "source": [
    "tweet_train.groupby('sentiment').count()"
   ]
  },
  {
   "cell_type": "code",
   "execution_count": 114,
   "id": "966d60ff",
   "metadata": {},
   "outputs": [
    {
     "data": {
      "text/html": [
       "<div>\n",
       "<style scoped>\n",
       "    .dataframe tbody tr th:only-of-type {\n",
       "        vertical-align: middle;\n",
       "    }\n",
       "\n",
       "    .dataframe tbody tr th {\n",
       "        vertical-align: top;\n",
       "    }\n",
       "\n",
       "    .dataframe thead th {\n",
       "        text-align: right;\n",
       "    }\n",
       "</style>\n",
       "<table border=\"1\" class=\"dataframe\">\n",
       "  <thead>\n",
       "    <tr style=\"text-align: right;\">\n",
       "      <th></th>\n",
       "      <th>text</th>\n",
       "    </tr>\n",
       "    <tr>\n",
       "      <th>sentiment</th>\n",
       "      <th></th>\n",
       "    </tr>\n",
       "  </thead>\n",
       "  <tbody>\n",
       "    <tr>\n",
       "      <th>negative</th>\n",
       "      <td>1001</td>\n",
       "    </tr>\n",
       "    <tr>\n",
       "      <th>positive</th>\n",
       "      <td>1103</td>\n",
       "    </tr>\n",
       "  </tbody>\n",
       "</table>\n",
       "</div>"
      ],
      "text/plain": [
       "           text\n",
       "sentiment      \n",
       "negative   1001\n",
       "positive   1103"
      ]
     },
     "execution_count": 114,
     "metadata": {},
     "output_type": "execute_result"
    }
   ],
   "source": [
    "tweet_test.groupby('sentiment').count()"
   ]
  },
  {
   "cell_type": "markdown",
   "id": "a4fcc9aa",
   "metadata": {},
   "source": [
    "# EDA"
   ]
  },
  {
   "cell_type": "code",
   "execution_count": 115,
   "id": "dafc369a",
   "metadata": {},
   "outputs": [],
   "source": [
    "tweet_train['text_length'] = tweet_train['text'].apply(lambda x:len(str(x)))"
   ]
  },
  {
   "cell_type": "code",
   "execution_count": 116,
   "id": "8ff85f3e",
   "metadata": {},
   "outputs": [],
   "source": [
    "tweet_test['text_length'] = tweet_test['text'].apply(lambda x:len(str(x)))"
   ]
  },
  {
   "cell_type": "code",
   "execution_count": 117,
   "id": "7a4d44cc",
   "metadata": {},
   "outputs": [],
   "source": [
    "def countplot(df):\n",
    "#     py.figure(figsize=(10,3))\n",
    "    s.countplot(data=df,x='sentiment')"
   ]
  },
  {
   "cell_type": "code",
   "execution_count": 118,
   "id": "c040a5b1",
   "metadata": {},
   "outputs": [],
   "source": [
    "def kdeplot(df):\n",
    "#     py.figure(figsize=(10,2))\n",
    "    s.kdeplot(data=df,hue='sentiment',x='text_length',palette='deep')\n",
    "    py.ylabel('')\n",
    "#     py.xlim(0)"
   ]
  },
  {
   "cell_type": "code",
   "execution_count": 119,
   "id": "52f1c819",
   "metadata": {},
   "outputs": [],
   "source": [
    "def boxplot(df):\n",
    "    print(df.groupby('sentiment').describe())\n",
    "    s.boxplot(data=df,x='sentiment',y='text_length')"
   ]
  },
  {
   "cell_type": "code",
   "execution_count": 120,
   "id": "d9c1410f",
   "metadata": {},
   "outputs": [
    {
     "name": "stdout",
     "output_type": "stream",
     "text": [
      "          text_length                                                    \n",
      "                count       mean        std  min   25%   50%   75%    max\n",
      "sentiment                                                                \n",
      "negative       7781.0  70.551729  35.226499  5.0  42.0  66.0  98.0  171.0\n",
      "positive       8582.0  70.474015  34.699448  5.0  42.0  67.0  98.0  149.0\n"
     ]
    },
    {
     "data": {
      "image/png": "[encoded data removed]",
      "text/plain": [
       "<Figure size 1000x600 with 3 Axes>"
      ]
     },
     "metadata": {},
     "output_type": "display_data"
    }
   ],
   "source": [
    "py.figure(figsize=(10,6))\n",
    "py.subplot(3, 1, 1)\n",
    "boxplot(tweet_train)\n",
    "py.subplot(3, 1, 2)\n",
    "kdeplot(tweet_train)\n",
    "py.subplot(3, 1, 3)\n",
    "countplot(tweet_train)\n",
    "py.tight_layout()"
   ]
  },
  {
   "cell_type": "code",
   "execution_count": 121,
   "id": "3d004265",
   "metadata": {
    "scrolled": true
   },
   "outputs": [
    {
     "name": "stdout",
     "output_type": "stream",
     "text": [
      "          text_length                                                    \n",
      "                count       mean        std  min   25%   50%   75%    max\n",
      "sentiment                                                                \n",
      "negative       1001.0  69.663337  34.898532  8.0  42.0  65.0  97.0  144.0\n",
      "positive       1103.0  68.791478  34.772948  6.0  40.5  64.0  95.0  160.0\n"
     ]
    },
    {
     "data": {
      "image/png": "[encoded data removed]",
      "text/plain": [
       "<Figure size 700x500 with 3 Axes>"
      ]
     },
     "metadata": {},
     "output_type": "display_data"
    }
   ],
   "source": [
    "py.figure(figsize=(7,5))\n",
    "py.subplot(3, 1, 1)\n",
    "boxplot(tweet_test)\n",
    "py.subplot(3, 1, 2)\n",
    "kdeplot(tweet_test)\n",
    "py.subplot(3, 1, 3)\n",
    "countplot(tweet_test)\n",
    "py.tight_layout()"
   ]
  },
  {
   "cell_type": "code",
   "execution_count": 122,
   "id": "ec74dca3",
   "metadata": {},
   "outputs": [
    {
     "name": "stderr",
     "output_type": "stream",
     "text": [
      "[nltk_data] Downloading package punkt to\n",
      "[nltk_data]     C:\\Users\\jdebn\\AppData\\Roaming\\nltk_data...\n",
      "[nltk_data]   Package punkt is already up-to-date!\n"
     ]
    },
    {
     "data": {
      "text/plain": [
       "True"
      ]
     },
     "execution_count": 122,
     "metadata": {},
     "output_type": "execute_result"
    }
   ],
   "source": [
    "nltk.download('punkt')"
   ]
  },
  {
   "cell_type": "code",
   "execution_count": 123,
   "id": "fd62056b",
   "metadata": {},
   "outputs": [
    {
     "name": "stderr",
     "output_type": "stream",
     "text": [
      "[nltk_data] Downloading package averaged_perceptron_tagger to\n",
      "[nltk_data]     C:\\Users\\jdebn\\AppData\\Roaming\\nltk_data...\n",
      "[nltk_data]   Package averaged_perceptron_tagger is already up-to-\n",
      "[nltk_data]       date!\n"
     ]
    },
    {
     "data": {
      "text/plain": [
       "True"
      ]
     },
     "execution_count": 123,
     "metadata": {},
     "output_type": "execute_result"
    }
   ],
   "source": [
    "nltk.download('averaged_perceptron_tagger')"
   ]
  },
  {
   "cell_type": "code",
   "execution_count": 124,
   "id": "e4488b64",
   "metadata": {},
   "outputs": [
    {
     "name": "stderr",
     "output_type": "stream",
     "text": [
      "[nltk_data] Downloading package wordnet to\n",
      "[nltk_data]     C:\\Users\\jdebn\\AppData\\Roaming\\nltk_data...\n",
      "[nltk_data]   Package wordnet is already up-to-date!\n"
     ]
    },
    {
     "data": {
      "text/plain": [
       "True"
      ]
     },
     "execution_count": 124,
     "metadata": {},
     "output_type": "execute_result"
    }
   ],
   "source": [
    "nltk.download('wordnet')"
   ]
  },
  {
   "cell_type": "code",
   "execution_count": 125,
   "id": "924be9f1",
   "metadata": {},
   "outputs": [
    {
     "name": "stderr",
     "output_type": "stream",
     "text": [
      "[nltk_data] Downloading package omw-1.4 to\n",
      "[nltk_data]     C:\\Users\\jdebn\\AppData\\Roaming\\nltk_data...\n",
      "[nltk_data]   Package omw-1.4 is already up-to-date!\n"
     ]
    },
    {
     "data": {
      "text/plain": [
       "True"
      ]
     },
     "execution_count": 125,
     "metadata": {},
     "output_type": "execute_result"
    }
   ],
   "source": [
    "nltk.download('omw-1.4')"
   ]
  },
  {
   "cell_type": "code",
   "execution_count": 126,
   "id": "6e5cd389",
   "metadata": {},
   "outputs": [],
   "source": [
    "from nltk.tokenize import TweetTokenizer\n",
    "tokenizer = TweetTokenizer()"
   ]
  },
  {
   "cell_type": "code",
   "execution_count": 127,
   "id": "c63b3077",
   "metadata": {},
   "outputs": [],
   "source": [
    "list = []"
   ]
  },
  {
   "cell_type": "markdown",
   "id": "8e350223",
   "metadata": {},
   "source": [
    "# TEXT CLEANING"
   ]
  },
  {
   "cell_type": "code",
   "execution_count": 128,
   "id": "c4a19c28",
   "metadata": {},
   "outputs": [],
   "source": [
    "def text_process(msg):\n",
    "    \n",
    "#     punc   = !\"#$%&'()+,-./:;<=>?@[\\]^_`{|}~\n",
    "    nopunc = [c  for c in msg if c not in string.punctuation]\n",
    "    nopunc = ''.join(nopunc)\n",
    "#     print(nopunc)\n",
    "    nopunc = re.sub(r\"http\\S+|www\\S+|https\\S+\", \"\",nopunc)\n",
    "    nopunc = ''.join(nopunc)\n",
    "#     nopunc = re.sub(r'<[^<>]*>',\"\",''.join(nopunc))\n",
    "    nopunc = re.sub(r'@[^\\s]*','',nopunc)\n",
    "    nopunc = ''.join(nopunc)\n",
    "    nopunc = re.sub(r'[0-9]*','',nopunc)\n",
    "#     nopunc = [m for m in nopunc if m.lower() not in stopwords.words('english')]\n",
    "    nopunc = re.sub('[^a-zA-Z]',' ',nopunc)\n",
    "    nopunc = ''.join(nopunc)\n",
    "    \n",
    "    return nopunc"
   ]
  },
  {
   "cell_type": "code",
   "execution_count": 136,
   "id": "eec514ad",
   "metadata": {},
   "outputs": [],
   "source": [
    "tweet_train['text'] = tweet_train['text'].apply(text_process)                      "
   ]
  },
  {
   "cell_type": "code",
   "execution_count": 137,
   "id": "7d668d49",
   "metadata": {},
   "outputs": [
    {
     "data": {
      "text/html": [
       "<div>\n",
       "<style scoped>\n",
       "    .dataframe tbody tr th:only-of-type {\n",
       "        vertical-align: middle;\n",
       "    }\n",
       "\n",
       "    .dataframe tbody tr th {\n",
       "        vertical-align: top;\n",
       "    }\n",
       "\n",
       "    .dataframe thead th {\n",
       "        text-align: right;\n",
       "    }\n",
       "</style>\n",
       "<table border=\"1\" class=\"dataframe\">\n",
       "  <thead>\n",
       "    <tr style=\"text-align: right;\">\n",
       "      <th></th>\n",
       "      <th>text</th>\n",
       "      <th>sentiment</th>\n",
       "      <th>text_length</th>\n",
       "    </tr>\n",
       "  </thead>\n",
       "  <tbody>\n",
       "    <tr>\n",
       "      <th>0</th>\n",
       "      <td>Sooo SAD I will miss you here in San Diego</td>\n",
       "      <td>negative</td>\n",
       "      <td>46</td>\n",
       "    </tr>\n",
       "    <tr>\n",
       "      <th>1</th>\n",
       "      <td>my boss is bullying me</td>\n",
       "      <td>negative</td>\n",
       "      <td>25</td>\n",
       "    </tr>\n",
       "    <tr>\n",
       "      <th>2</th>\n",
       "      <td>what interview leave me alone</td>\n",
       "      <td>negative</td>\n",
       "      <td>31</td>\n",
       "    </tr>\n",
       "    <tr>\n",
       "      <th>3</th>\n",
       "      <td>Sons of  why couldnt they put them on the rel...</td>\n",
       "      <td>negative</td>\n",
       "      <td>75</td>\n",
       "    </tr>\n",
       "    <tr>\n",
       "      <th>4</th>\n",
       "      <td>am feedings for the baby are fun when he is al...</td>\n",
       "      <td>positive</td>\n",
       "      <td>64</td>\n",
       "    </tr>\n",
       "  </tbody>\n",
       "</table>\n",
       "</div>"
      ],
      "text/plain": [
       "                                                text sentiment  text_length\n",
       "0         Sooo SAD I will miss you here in San Diego  negative           46\n",
       "1                             my boss is bullying me  negative           25\n",
       "2                      what interview leave me alone  negative           31\n",
       "3   Sons of  why couldnt they put them on the rel...  negative           75\n",
       "4  am feedings for the baby are fun when he is al...  positive           64"
      ]
     },
     "execution_count": 137,
     "metadata": {},
     "output_type": "execute_result"
    }
   ],
   "source": [
    "tweet_train.head()"
   ]
  },
  {
   "cell_type": "code",
   "execution_count": 138,
   "id": "b999b6d2",
   "metadata": {},
   "outputs": [],
   "source": [
    "tweet_test['text'] = tweet_test['text'].apply(lambda x:text_process(str(x)))"
   ]
  },
  {
   "cell_type": "code",
   "execution_count": 139,
   "id": "1d562007",
   "metadata": {},
   "outputs": [
    {
     "data": {
      "text/plain": [
       "0        Shanghai is also really exciting precisely  s...\n",
       "1       Recession hit Veronique Branquinho she has to ...\n",
       "2                                              happy bday\n",
       "3                                               I like it\n",
       "4                               thats great weee visitors\n",
       "                              ...                        \n",
       "2099    its at  am im very tired but i cant sleep  but...\n",
       "2100    All alone in this old house again  Thanks for ...\n",
       "2101     I know what you mean My little dog is sinking...\n",
       "2102    sutra what is your next youtube video gonna be...\n",
       "2103                              omgssh  ang cute ng bby\n",
       "Name: text, Length: 2104, dtype: object"
      ]
     },
     "execution_count": 139,
     "metadata": {},
     "output_type": "execute_result"
    }
   ],
   "source": [
    "tweet_test['text']"
   ]
  },
  {
   "cell_type": "markdown",
   "id": "f8118c7d",
   "metadata": {},
   "source": [
    "# REMOVING STOPWORDS"
   ]
  },
  {
   "cell_type": "code",
   "execution_count": 140,
   "id": "ecd570f7",
   "metadata": {},
   "outputs": [],
   "source": [
    "def remove_stopwords(msg):\n",
    "        STOPWORDS = set(stopwords.words('english'))\n",
    "        return ' '.join([word for word in msg.split() if word.lower() not in stopwords.words('english')])"
   ]
  },
  {
   "cell_type": "code",
   "execution_count": 141,
   "id": "b3109e3d",
   "metadata": {},
   "outputs": [],
   "source": [
    "tweet_train['text'] = tweet_train['text'].apply(remove_stopwords)"
   ]
  },
  {
   "cell_type": "code",
   "execution_count": 142,
   "id": "12aef12a",
   "metadata": {},
   "outputs": [],
   "source": [
    "tweet_test['text'] = tweet_test['text'].apply(remove_stopwords)"
   ]
  },
  {
   "cell_type": "markdown",
   "id": "a025a44b",
   "metadata": {},
   "source": [
    "# REMOVE EMOJIS"
   ]
  },
  {
   "cell_type": "code",
   "execution_count": 148,
   "id": "26b978c7",
   "metadata": {},
   "outputs": [],
   "source": [
    "def remove_emoji(text):\n",
    "    emoji_pattern = re.compile(\"[\"\n",
    "                                  u\"\\U0001F600-\\U0001F64F\"  # emoticons\n",
    "                                  u\"\\U0001F300-\\U0001F5FF\"  # symbols & pictographs\n",
    "                                  u\"\\U0001F680-\\U0001F6FF\"  # transport & map symbols\n",
    "                                  u\"\\U0001F1E0-\\U0001F1FF\"  # flags (iOS)\n",
    "                                  u\"\\U00002702-\\U000027B0\"  # other miscellaneous symbols\n",
    "                                  u\"\\U000024C2-\\U0001F251\"  # enclosed characters\n",
    "                               \"]+\", flags=re.UNICODE)\n",
    "    \n",
    "    return emoji_pattern.sub(r'', text)"
   ]
  },
  {
   "cell_type": "code",
   "execution_count": 149,
   "id": "86188214",
   "metadata": {},
   "outputs": [],
   "source": [
    "tweet_test['text'] = tweet_test['text'].apply(remove_emoji)"
   ]
  },
  {
   "cell_type": "code",
   "execution_count": 150,
   "id": "d10d59b4",
   "metadata": {},
   "outputs": [],
   "source": [
    "tweet_train['text'] = tweet_train['text'].apply(remove_emoji)"
   ]
  },
  {
   "cell_type": "markdown",
   "id": "04b04ed7",
   "metadata": {},
   "source": [
    "# STEMMING"
   ]
  },
  {
   "cell_type": "code",
   "execution_count": 153,
   "id": "0a73ea3b",
   "metadata": {},
   "outputs": [],
   "source": [
    "def stemmatize_words(text):\n",
    "    stemmer = PorterStemmer()\n",
    "    text_split = text.split()\n",
    "    return \" \".join([stemmer.stem(word) for word in text_split])"
   ]
  },
  {
   "cell_type": "code",
   "execution_count": 154,
   "id": "3b808a59",
   "metadata": {},
   "outputs": [],
   "source": [
    "tweet_train['text'] = tweet_train['text'].apply(stemmatize_words)"
   ]
  },
  {
   "cell_type": "code",
   "execution_count": 155,
   "id": "3a1e1fcb",
   "metadata": {},
   "outputs": [],
   "source": [
    "tweet_test['text'] = tweet_test['text'].apply(stemmatize_words)"
   ]
  },
  {
   "cell_type": "markdown",
   "id": "db95315d",
   "metadata": {},
   "source": [
    "# LEMMATISATION"
   ]
  },
  {
   "cell_type": "code",
   "execution_count": 164,
   "id": "f0c9ca16",
   "metadata": {},
   "outputs": [],
   "source": [
    "lemmatizer = WordNetLemmatizer()\n",
    "\n",
    "def lemmatize_words(text):\n",
    "    lemmatizer = WordNetLemmatizer()\n",
    "    text_split = text.split()\n",
    "    return \" \".join([lemmatizer.lemmatize(word) for word in text_split])"
   ]
  },
  {
   "cell_type": "code",
   "execution_count": 165,
   "id": "a70c5ff4",
   "metadata": {},
   "outputs": [],
   "source": [
    "tweet_test.text = tweet_test.text.apply(lemmatize_words)"
   ]
  },
  {
   "cell_type": "code",
   "execution_count": 166,
   "id": "1257bc46",
   "metadata": {},
   "outputs": [],
   "source": [
    "tweet_train['text'] = tweet_train['text'].apply(lemmatize_words)\n"
   ]
  },
  {
   "cell_type": "code",
   "execution_count": 172,
   "id": "07d3e0d6",
   "metadata": {},
   "outputs": [
    {
     "data": {
      "text/plain": [
       "'responded'"
      ]
     },
     "execution_count": 172,
     "metadata": {},
     "output_type": "execute_result"
    }
   ],
   "source": [
    "lemmatizer.lemmatize('responded')"
   ]
  },
  {
   "cell_type": "code",
   "execution_count": 173,
   "id": "15cab668",
   "metadata": {},
   "outputs": [
    {
     "data": {
      "text/plain": [
       "0                                  sooo sad miss san diego\n",
       "1                                                bos bulli\n",
       "2                                      interview leav alon\n",
       "3                    son couldnt put releas alreadi bought\n",
       "4                                  feed babi fun smile coo\n",
       "                               ...                        \n",
       "16358                                       enjoy ur night\n",
       "16359    wish could come see u denver husband lost job ...\n",
       "16360    ive wonder rake client made clear net dont for...\n",
       "16361    yay good enjoy break probabl need hectic weeke...\n",
       "16362                                                worth\n",
       "Name: text, Length: 16363, dtype: object"
      ]
     },
     "execution_count": 173,
     "metadata": {},
     "output_type": "execute_result"
    }
   ],
   "source": [
    "tweet_train.text"
   ]
  },
  {
   "cell_type": "code",
   "execution_count": 174,
   "id": "ba31d7b1",
   "metadata": {},
   "outputs": [
    {
     "data": {
      "text/plain": [
       "0       shanghai also realli excit precis skyscrap gal...\n",
       "1       recess hit veroniqu branquinho quit compani shame\n",
       "2                                              happi bday\n",
       "3                                                    like\n",
       "4                                 that great weee visitor\n",
       "                              ...                        \n",
       "2099                               im tire cant sleep tri\n",
       "2100    alon old hous thank net keep aliv kick whoever...\n",
       "2101    know mean littl dog sink depress want move som...\n",
       "2102             sutra next youtub video gonna love video\n",
       "2103                               omgssh ang cute ng bbi\n",
       "Name: text, Length: 2104, dtype: object"
      ]
     },
     "execution_count": 174,
     "metadata": {},
     "output_type": "execute_result"
    }
   ],
   "source": [
    "tweet_test['text']"
   ]
  },
  {
   "cell_type": "code",
   "execution_count": 175,
   "id": "d98565a0",
   "metadata": {},
   "outputs": [],
   "source": [
    "def cleanData(text):\n",
    "\n",
    "    ReapeatTokensRm =  \" \".join( [ re.sub(r'(\\w)\\1{2,}', r'\\1', word) for word in text.split()] )  # Remove repeating characters from tokens\n",
    "\n",
    "    digitTokensRm =  \" \".join( [ word for word in ReapeatTokensRm.split() if not re.search(r'\\d', word) ] ) # Remove tokens containing digits\n",
    "\n",
    "    underscoreTokensRm =  \" \".join( [ word for word in digitTokensRm.split() if not re.search(r'_|\\w*_\\w*', word) ] ) # Remove tokens containing underscore\n",
    "\n",
    "    specialTokensRm =  \" \".join( [ word for word in underscoreTokensRm.split() if not re.search(r'[^a-zA-Z0-9\\s]', word) ] ) # Remove tokens containing Special Characters\n",
    "\n",
    "    return \" \".join( [ word for word in specialTokensRm.split() if len(word) > 2 ] )  # Remove tokens less than 2 characters\n",
    "\n",
    "\n",
    "tweet_train['text'] = tweet_train['text'].apply(cleanData)"
   ]
  },
  {
   "cell_type": "code",
   "execution_count": 176,
   "id": "8346a50a",
   "metadata": {},
   "outputs": [],
   "source": [
    "tweet_test['text'] = tweet_test['text'].apply(cleanData)"
   ]
  },
  {
   "cell_type": "markdown",
   "id": "92de9b23",
   "metadata": {},
   "source": [
    "# TFIDF"
   ]
  },
  {
   "cell_type": "code",
   "execution_count": 193,
   "id": "db3ffa09",
   "metadata": {},
   "outputs": [],
   "source": [
    "from sklearn.feature_extraction.text import TfidfVectorizer"
   ]
  },
  {
   "cell_type": "code",
   "execution_count": 194,
   "id": "99cacfcc",
   "metadata": {},
   "outputs": [],
   "source": [
    "tfidf = TfidfVectorizer(use_idf=True,norm='l2',smooth_idf=True,max_df=0.7)"
   ]
  },
  {
   "cell_type": "code",
   "execution_count": 195,
   "id": "008b5734",
   "metadata": {},
   "outputs": [],
   "source": [
    "TrainedDataVectorised = tfidf.fit_transform(tweet_train['text'])"
   ]
  },
  {
   "cell_type": "code",
   "execution_count": 196,
   "id": "6aa054eb",
   "metadata": {},
   "outputs": [
    {
     "data": {
      "text/plain": [
       "<16363x14380 sparse matrix of type '<class 'numpy.float64'>'\n",
       "\twith 110268 stored elements in Compressed Sparse Row format>"
      ]
     },
     "execution_count": 196,
     "metadata": {},
     "output_type": "execute_result"
    }
   ],
   "source": [
    "TrainedDataVectorised"
   ]
  },
  {
   "cell_type": "code",
   "execution_count": 197,
   "id": "6b4a87f6",
   "metadata": {},
   "outputs": [],
   "source": [
    "TestedDataVectorised = tfidf.transform(tweet_test['text'])"
   ]
  },
  {
   "cell_type": "code",
   "execution_count": 198,
   "id": "a1aad218",
   "metadata": {},
   "outputs": [
    {
     "data": {
      "text/plain": [
       "<2104x14380 sparse matrix of type '<class 'numpy.float64'>'\n",
       "\twith 12822 stored elements in Compressed Sparse Row format>"
      ]
     },
     "execution_count": 198,
     "metadata": {},
     "output_type": "execute_result"
    }
   ],
   "source": [
    "TestedDataVectorised"
   ]
  },
  {
   "cell_type": "code",
   "execution_count": 659,
   "id": "6496b080",
   "metadata": {},
   "outputs": [
    {
     "name": "stderr",
     "output_type": "stream",
     "text": [
      "C:\\Users\\jdebn\\anaconda3\\lib\\site-packages\\sklearn\\utils\\deprecation.py:87: FutureWarning: Function get_feature_names is deprecated; get_feature_names is deprecated in 1.0 and will be removed in 1.2. Please use get_feature_names_out instead.\n",
      "  warnings.warn(msg, category=FutureWarning)\n"
     ]
    }
   ],
   "source": [
    "feat_names = tfidf.get_feature_names()"
   ]
  },
  {
   "cell_type": "code",
   "execution_count": 660,
   "id": "8807444a",
   "metadata": {},
   "outputs": [],
   "source": [
    "tfidf_df = p.DataFrame(TrainedDataVectorised.toarray(),columns=feat_names)"
   ]
  },
  {
   "cell_type": "code",
   "execution_count": 661,
   "id": "b267c12d",
   "metadata": {},
   "outputs": [
    {
     "data": {
      "text/plain": [
       "Index(['aah', 'aapko', 'aargh', 'aaron', 'aarrgghh', 'aasman', 'aba', 'abalon',\n",
       "       'abandon', 'abang',\n",
       "       ...\n",
       "       'zoningconcept', 'zoo', 'zorni', 'zorzpeep', 'zotz', 'zuccini', 'zulu',\n",
       "       'zumba', 'zune', 'zyrtec'],\n",
       "      dtype='object', length=14380)"
      ]
     },
     "execution_count": 661,
     "metadata": {},
     "output_type": "execute_result"
    }
   ],
   "source": [
    "tfidf_df.columns"
   ]
  },
  {
   "cell_type": "code",
   "execution_count": 662,
   "id": "886c7867",
   "metadata": {},
   "outputs": [
    {
     "data": {
      "text/plain": [
       "(16363, 14380)"
      ]
     },
     "execution_count": 662,
     "metadata": {},
     "output_type": "execute_result"
    }
   ],
   "source": [
    "TrainedDataVectorised.toarray().shape"
   ]
  },
  {
   "cell_type": "code",
   "execution_count": 663,
   "id": "105446c1",
   "metadata": {},
   "outputs": [
    {
     "data": {
      "text/html": [
       "<div>\n",
       "<style scoped>\n",
       "    .dataframe tbody tr th:only-of-type {\n",
       "        vertical-align: middle;\n",
       "    }\n",
       "\n",
       "    .dataframe tbody tr th {\n",
       "        vertical-align: top;\n",
       "    }\n",
       "\n",
       "    .dataframe thead th {\n",
       "        text-align: right;\n",
       "    }\n",
       "</style>\n",
       "<table border=\"1\" class=\"dataframe\">\n",
       "  <thead>\n",
       "    <tr style=\"text-align: right;\">\n",
       "      <th></th>\n",
       "      <th>aah</th>\n",
       "      <th>aapko</th>\n",
       "      <th>aargh</th>\n",
       "      <th>aaron</th>\n",
       "      <th>aarrgghh</th>\n",
       "      <th>aasman</th>\n",
       "      <th>aba</th>\n",
       "      <th>abalon</th>\n",
       "      <th>abandon</th>\n",
       "      <th>abang</th>\n",
       "      <th>...</th>\n",
       "      <th>zoningconcept</th>\n",
       "      <th>zoo</th>\n",
       "      <th>zorni</th>\n",
       "      <th>zorzpeep</th>\n",
       "      <th>zotz</th>\n",
       "      <th>zuccini</th>\n",
       "      <th>zulu</th>\n",
       "      <th>zumba</th>\n",
       "      <th>zune</th>\n",
       "      <th>zyrtec</th>\n",
       "    </tr>\n",
       "  </thead>\n",
       "  <tbody>\n",
       "    <tr>\n",
       "      <th>0</th>\n",
       "      <td>0.0</td>\n",
       "      <td>0.0</td>\n",
       "      <td>0.0</td>\n",
       "      <td>0.0</td>\n",
       "      <td>0.0</td>\n",
       "      <td>0.0</td>\n",
       "      <td>0.0</td>\n",
       "      <td>0.0</td>\n",
       "      <td>0.0</td>\n",
       "      <td>0.0</td>\n",
       "      <td>...</td>\n",
       "      <td>0.0</td>\n",
       "      <td>0.0</td>\n",
       "      <td>0.0</td>\n",
       "      <td>0.0</td>\n",
       "      <td>0.0</td>\n",
       "      <td>0.0</td>\n",
       "      <td>0.0</td>\n",
       "      <td>0.0</td>\n",
       "      <td>0.0</td>\n",
       "      <td>0.0</td>\n",
       "    </tr>\n",
       "    <tr>\n",
       "      <th>1</th>\n",
       "      <td>0.0</td>\n",
       "      <td>0.0</td>\n",
       "      <td>0.0</td>\n",
       "      <td>0.0</td>\n",
       "      <td>0.0</td>\n",
       "      <td>0.0</td>\n",
       "      <td>0.0</td>\n",
       "      <td>0.0</td>\n",
       "      <td>0.0</td>\n",
       "      <td>0.0</td>\n",
       "      <td>...</td>\n",
       "      <td>0.0</td>\n",
       "      <td>0.0</td>\n",
       "      <td>0.0</td>\n",
       "      <td>0.0</td>\n",
       "      <td>0.0</td>\n",
       "      <td>0.0</td>\n",
       "      <td>0.0</td>\n",
       "      <td>0.0</td>\n",
       "      <td>0.0</td>\n",
       "      <td>0.0</td>\n",
       "    </tr>\n",
       "    <tr>\n",
       "      <th>2</th>\n",
       "      <td>0.0</td>\n",
       "      <td>0.0</td>\n",
       "      <td>0.0</td>\n",
       "      <td>0.0</td>\n",
       "      <td>0.0</td>\n",
       "      <td>0.0</td>\n",
       "      <td>0.0</td>\n",
       "      <td>0.0</td>\n",
       "      <td>0.0</td>\n",
       "      <td>0.0</td>\n",
       "      <td>...</td>\n",
       "      <td>0.0</td>\n",
       "      <td>0.0</td>\n",
       "      <td>0.0</td>\n",
       "      <td>0.0</td>\n",
       "      <td>0.0</td>\n",
       "      <td>0.0</td>\n",
       "      <td>0.0</td>\n",
       "      <td>0.0</td>\n",
       "      <td>0.0</td>\n",
       "      <td>0.0</td>\n",
       "    </tr>\n",
       "    <tr>\n",
       "      <th>3</th>\n",
       "      <td>0.0</td>\n",
       "      <td>0.0</td>\n",
       "      <td>0.0</td>\n",
       "      <td>0.0</td>\n",
       "      <td>0.0</td>\n",
       "      <td>0.0</td>\n",
       "      <td>0.0</td>\n",
       "      <td>0.0</td>\n",
       "      <td>0.0</td>\n",
       "      <td>0.0</td>\n",
       "      <td>...</td>\n",
       "      <td>0.0</td>\n",
       "      <td>0.0</td>\n",
       "      <td>0.0</td>\n",
       "      <td>0.0</td>\n",
       "      <td>0.0</td>\n",
       "      <td>0.0</td>\n",
       "      <td>0.0</td>\n",
       "      <td>0.0</td>\n",
       "      <td>0.0</td>\n",
       "      <td>0.0</td>\n",
       "    </tr>\n",
       "    <tr>\n",
       "      <th>4</th>\n",
       "      <td>0.0</td>\n",
       "      <td>0.0</td>\n",
       "      <td>0.0</td>\n",
       "      <td>0.0</td>\n",
       "      <td>0.0</td>\n",
       "      <td>0.0</td>\n",
       "      <td>0.0</td>\n",
       "      <td>0.0</td>\n",
       "      <td>0.0</td>\n",
       "      <td>0.0</td>\n",
       "      <td>...</td>\n",
       "      <td>0.0</td>\n",
       "      <td>0.0</td>\n",
       "      <td>0.0</td>\n",
       "      <td>0.0</td>\n",
       "      <td>0.0</td>\n",
       "      <td>0.0</td>\n",
       "      <td>0.0</td>\n",
       "      <td>0.0</td>\n",
       "      <td>0.0</td>\n",
       "      <td>0.0</td>\n",
       "    </tr>\n",
       "  </tbody>\n",
       "</table>\n",
       "<p>5 rows × 14380 columns</p>\n",
       "</div>"
      ],
      "text/plain": [
       "   aah  aapko  aargh  aaron  aarrgghh  aasman  aba  abalon  abandon  abang  \\\n",
       "0  0.0    0.0    0.0    0.0       0.0     0.0  0.0     0.0      0.0    0.0   \n",
       "1  0.0    0.0    0.0    0.0       0.0     0.0  0.0     0.0      0.0    0.0   \n",
       "2  0.0    0.0    0.0    0.0       0.0     0.0  0.0     0.0      0.0    0.0   \n",
       "3  0.0    0.0    0.0    0.0       0.0     0.0  0.0     0.0      0.0    0.0   \n",
       "4  0.0    0.0    0.0    0.0       0.0     0.0  0.0     0.0      0.0    0.0   \n",
       "\n",
       "   ...  zoningconcept  zoo  zorni  zorzpeep  zotz  zuccini  zulu  zumba  zune  \\\n",
       "0  ...            0.0  0.0    0.0       0.0   0.0      0.0   0.0    0.0   0.0   \n",
       "1  ...            0.0  0.0    0.0       0.0   0.0      0.0   0.0    0.0   0.0   \n",
       "2  ...            0.0  0.0    0.0       0.0   0.0      0.0   0.0    0.0   0.0   \n",
       "3  ...            0.0  0.0    0.0       0.0   0.0      0.0   0.0    0.0   0.0   \n",
       "4  ...            0.0  0.0    0.0       0.0   0.0      0.0   0.0    0.0   0.0   \n",
       "\n",
       "   zyrtec  \n",
       "0     0.0  \n",
       "1     0.0  \n",
       "2     0.0  \n",
       "3     0.0  \n",
       "4     0.0  \n",
       "\n",
       "[5 rows x 14380 columns]"
      ]
     },
     "execution_count": 663,
     "metadata": {},
     "output_type": "execute_result"
    }
   ],
   "source": [
    "tfidf_df.head()"
   ]
  },
  {
   "cell_type": "code",
   "execution_count": 664,
   "id": "94a92b6a",
   "metadata": {},
   "outputs": [
    {
     "data": {
      "text/plain": [
       "array([0], dtype=int64)"
      ]
     },
     "execution_count": 664,
     "metadata": {},
     "output_type": "execute_result"
    }
   ],
   "source": [
    "tfidf_df.isna().sum().unique()"
   ]
  },
  {
   "cell_type": "markdown",
   "id": "2db0b74a",
   "metadata": {},
   "source": [
    "# DATA SPLITTING"
   ]
  },
  {
   "cell_type": "code",
   "execution_count": 200,
   "id": "141f46dc",
   "metadata": {},
   "outputs": [],
   "source": [
    "X_train = TrainedDataVectorised\n",
    "X_test = TestedDataVectorised\n",
    "y_train = tweet_train['sentiment']\n",
    "y_test = tweet_test['sentiment']"
   ]
  },
  {
   "cell_type": "code",
   "execution_count": 214,
   "id": "f1f3a2be",
   "metadata": {},
   "outputs": [
    {
     "data": {
      "image/png": "[encoded data removed]",
      "text/plain": [
       "<Figure size 700x200 with 2 Axes>"
      ]
     },
     "metadata": {},
     "output_type": "display_data"
    }
   ],
   "source": [
    "py.figure(figsize=(7,2))\n",
    "py.subplot(1,2,1)\n",
    "py.title('y_train')\n",
    "s.countplot(x=y_train)\n",
    "py.subplot(1,2,2)\n",
    "py.title('y_test')\n",
    "s.countplot(x=y_test)\n",
    "py.tight_layout()"
   ]
  },
  {
   "cell_type": "code",
   "execution_count": 671,
   "id": "7d056aae",
   "metadata": {},
   "outputs": [
    {
     "data": {
      "text/plain": [
       "((16363, 14380), (2104, 14380), (16363,), (2104,))"
      ]
     },
     "execution_count": 671,
     "metadata": {},
     "output_type": "execute_result"
    }
   ],
   "source": [
    "X_train.shape , X_test.shape , y_train.shape, y_test.shape"
   ]
  },
  {
   "cell_type": "code",
   "execution_count": 672,
   "id": "012907dd",
   "metadata": {},
   "outputs": [
    {
     "data": {
      "text/plain": [
       "<16363x14380 sparse matrix of type '<class 'numpy.float64'>'\n",
       "\twith 110268 stored elements in Compressed Sparse Row format>"
      ]
     },
     "execution_count": 672,
     "metadata": {},
     "output_type": "execute_result"
    }
   ],
   "source": [
    "X_train"
   ]
  },
  {
   "cell_type": "code",
   "execution_count": 673,
   "id": "05c72ad3",
   "metadata": {},
   "outputs": [
    {
     "name": "stdout",
     "output_type": "stream",
     "text": [
      "{'negative': 1.0514715332219509, 'positive': 0.9533325565136331}\n"
     ]
    }
   ],
   "source": [
    "from sklearn.utils import compute_class_weight\n",
    "\n",
    "classWeights = compute_class_weight(\"balanced\", classes = n.unique(y_train),\n",
    "                                     y = y_train)\n",
    "\n",
    "classWeights = dict(zip(n.unique(y_train), classWeights))\n",
    "\n",
    "print(classWeights)"
   ]
  },
  {
   "cell_type": "code",
   "execution_count": 674,
   "id": "fc09bb1e",
   "metadata": {},
   "outputs": [
    {
     "name": "stdout",
     "output_type": "stream",
     "text": [
      "{'negative': 1.050949050949051, 'positive': 0.9537624660018132}\n"
     ]
    }
   ],
   "source": [
    "from sklearn.utils import compute_class_weight\n",
    "\n",
    "classWeights = compute_class_weight(\"balanced\", classes = n.unique(y_test),\n",
    "                                     y = y_test)\n",
    "\n",
    "classWeights = dict(zip(n.unique(y_test), classWeights))\n",
    "\n",
    "print(classWeights)"
   ]
  },
  {
   "cell_type": "code",
   "execution_count": 679,
   "id": "f42f658f",
   "metadata": {},
   "outputs": [],
   "source": [
    "from sklearn.metrics import classification_report,confusion_matrix,accuracy_score,f1_score,recall_score,precision_score,roc_auc_score"
   ]
  },
  {
   "cell_type": "markdown",
   "id": "254ebfd0",
   "metadata": {},
   "source": [
    "# MODEL TRAINING"
   ]
  },
  {
   "cell_type": "code",
   "execution_count": 680,
   "id": "b661cc59",
   "metadata": {},
   "outputs": [],
   "source": [
    "rf_params = {'max_depth': [5, 8, 15,10,None],\n",
    "            'min_samples_split': [2, 8, 15, 20,30],\n",
    "             'max_features' : [5,7,'auto',8,10],\n",
    "            'n_estimators': [100, 200, 300,400,500]}"
   ]
  },
  {
   "cell_type": "code",
   "execution_count": 681,
   "id": "fae1c9f4",
   "metadata": {},
   "outputs": [],
   "source": [
    "randcv_model = [(\"RF\",RandomForestClassifier(),rf_params)]"
   ]
  },
  {
   "cell_type": "code",
   "execution_count": 682,
   "id": "5098e7fe",
   "metadata": {},
   "outputs": [],
   "source": [
    "from sklearn.model_selection import RandomizedSearchCV"
   ]
  },
  {
   "cell_type": "code",
   "execution_count": 683,
   "id": "fad22e38",
   "metadata": {},
   "outputs": [
    {
     "name": "stdout",
     "output_type": "stream",
     "text": [
      "Fitting 3 folds for each of 150 candidates, totalling 450 fits\n"
     ]
    }
   ],
   "source": [
    "model_param = {}\n",
    "for name, model, params in randcv_model:\n",
    "    random = RandomizedSearchCV(estimator=model,\n",
    "                               param_distributions=params,\n",
    "                               n_iter=150,\n",
    "                               cv=3,\n",
    "                               verbose=2,\n",
    "                               n_jobs=-1)\n",
    "    random.fit(X_train,y_train)"
   ]
  },
  {
   "cell_type": "code",
   "execution_count": 684,
   "id": "7618cdd0",
   "metadata": {},
   "outputs": [
    {
     "data": {
      "text/plain": [
       "{'n_estimators': 400,\n",
       " 'min_samples_split': 30,\n",
       " 'max_features': 10,\n",
       " 'max_depth': None}"
      ]
     },
     "execution_count": 684,
     "metadata": {},
     "output_type": "execute_result"
    }
   ],
   "source": [
    "random.best_params_"
   ]
  },
  {
   "cell_type": "code",
   "execution_count": 685,
   "id": "fd41ec2a",
   "metadata": {},
   "outputs": [],
   "source": [
    "rf = RandomForestClassifier(class_weight=classWeights,n_estimators=400,max_features=10, min_samples_split = 30, max_depth = None)"
   ]
  },
  {
   "cell_type": "code",
   "execution_count": 686,
   "id": "dbe240cb",
   "metadata": {},
   "outputs": [
    {
     "data": {
      "text/plain": [
       "RandomForestClassifier(class_weight={'negative': 1.050949050949051,\n",
       "                                     'positive': 0.9537624660018132},\n",
       "                       max_features=10, min_samples_split=30, n_estimators=400)"
      ]
     },
     "execution_count": 686,
     "metadata": {},
     "output_type": "execute_result"
    }
   ],
   "source": [
    "rf.fit(X_train,y_train)"
   ]
  },
  {
   "cell_type": "code",
   "execution_count": 687,
   "id": "c463b994",
   "metadata": {},
   "outputs": [
    {
     "name": "stdout",
     "output_type": "stream",
     "text": [
      "RandomForestClassifier()\n",
      "[[901 100]\n",
      " [122 981]]\n",
      "\n",
      "\n",
      "              precision    recall  f1-score   support\n",
      "\n",
      "    negative       0.88      0.90      0.89      1001\n",
      "    positive       0.91      0.89      0.90      1103\n",
      "\n",
      "    accuracy                           0.89      2104\n",
      "   macro avg       0.89      0.89      0.89      2104\n",
      "weighted avg       0.89      0.89      0.89      2104\n",
      "\n"
     ]
    }
   ],
   "source": [
    "pred = rf.predict(X_test)\n",
    "print(model)\n",
    "print(confusion_matrix(y_test,pred))\n",
    "print('\\n')\n",
    "print(classification_report(y_test,pred))"
   ]
  },
  {
   "cell_type": "code",
   "execution_count": 688,
   "id": "0d0a6b06",
   "metadata": {},
   "outputs": [],
   "source": [
    "conf_mat = confusion_matrix(y_test,pred)"
   ]
  },
  {
   "cell_type": "code",
   "execution_count": 861,
   "id": "6d231df9",
   "metadata": {},
   "outputs": [
    {
     "data": {
      "text/plain": [
       "<AxesSubplot:>"
      ]
     },
     "execution_count": 861,
     "metadata": {},
     "output_type": "execute_result"
    },
    {
     "data": {
      "image/png": "[encoded data removed]",
      "text/plain": [
       "<Figure size 600x200 with 2 Axes>"
      ]
     },
     "metadata": {},
     "output_type": "display_data"
    }
   ],
   "source": [
    "py.figure(figsize=(6,2))\n",
    "s.heatmap(conf_mat,annot=True)"
   ]
  },
  {
   "cell_type": "markdown",
   "id": "db971cba",
   "metadata": {},
   "source": [
    "# SAVING MODEL"
   ]
  },
  {
   "cell_type": "code",
   "execution_count": 3,
   "id": "a6738de6",
   "metadata": {},
   "outputs": [],
   "source": [
    "import pickle"
   ]
  },
  {
   "cell_type": "code",
   "execution_count": 2,
   "id": "e055b628",
   "metadata": {},
   "outputs": [
    {
     "ename": "NameError",
     "evalue": "name 'pickle' is not defined",
     "output_type": "error",
     "traceback": [
      "\u001b[1;31m---------------------------------------------------------------------------\u001b[0m",
      "\u001b[1;31mNameError\u001b[0m                                 Traceback (most recent call last)",
      "\u001b[1;32m~\\AppData\\Local\\Temp\\ipykernel_15012\\463380318.py\u001b[0m in \u001b[0;36m<module>\u001b[1;34m\u001b[0m\n\u001b[0;32m      1\u001b[0m \u001b[0msaved_model\u001b[0m \u001b[1;33m=\u001b[0m \u001b[0mopen\u001b[0m\u001b[1;33m(\u001b[0m\u001b[1;34m'shreyaa_model.h5'\u001b[0m\u001b[1;33m,\u001b[0m\u001b[1;34m'wb'\u001b[0m\u001b[1;33m)\u001b[0m\u001b[1;33m\u001b[0m\u001b[1;33m\u001b[0m\u001b[0m\n\u001b[1;32m----> 2\u001b[1;33m \u001b[0mpickle\u001b[0m\u001b[1;33m.\u001b[0m\u001b[0mdump\u001b[0m\u001b[1;33m(\u001b[0m\u001b[0mrf\u001b[0m\u001b[1;33m,\u001b[0m\u001b[0msaved_model\u001b[0m\u001b[1;33m)\u001b[0m\u001b[1;33m\u001b[0m\u001b[1;33m\u001b[0m\u001b[0m\n\u001b[0m\u001b[0;32m      3\u001b[0m \u001b[0msaved_model\u001b[0m\u001b[1;33m.\u001b[0m\u001b[0mclose\u001b[0m\u001b[1;33m(\u001b[0m\u001b[1;33m)\u001b[0m\u001b[1;33m\u001b[0m\u001b[1;33m\u001b[0m\u001b[0m\n",
      "\u001b[1;31mNameError\u001b[0m: name 'pickle' is not defined"
     ]
    }
   ],
   "source": [
    "saved_model = open('shreyaa_model.h5','wb')\n",
    "pickle.dump(rf,saved_model)\n",
    "saved_model.close()"
   ]
  },
  {
   "cell_type": "code",
   "execution_count": 693,
   "id": "bf97fc19",
   "metadata": {},
   "outputs": [],
   "source": [
    "filename = 'shreyaa_model.sav'\n",
    "saved_rf = pickle.load(open(filename,'rb'))\n",
    "score_model = saved_rf.score(X_test,y_test)"
   ]
  },
  {
   "cell_type": "code",
   "execution_count": 694,
   "id": "1e983263",
   "metadata": {},
   "outputs": [
    {
     "name": "stdout",
     "output_type": "stream",
     "text": [
      "Score of model : 89%\n"
     ]
    }
   ],
   "source": [
    "print(f'Score of model : {int(round(score_model*100))}%')"
   ]
  },
  {
   "cell_type": "code",
   "execution_count": null,
   "id": "f5e83656",
   "metadata": {},
   "outputs": [],
   "source": []
  }
 ],
 "metadata": {
  "kernelspec": {
   "display_name": "Python 3 (ipykernel)",
   "language": "python",
   "name": "python3"
  },
  "language_info": {
   "codemirror_mode": {
    "name": "ipython",
    "version": 3
   },
   "file_extension": ".py",
   "mimetype": "text/x-python",
   "name": "python",
   "nbconvert_exporter": "python",
   "pygments_lexer": "ipython3",
   "version": "3.9.13"
  }
 },
 "nbformat": 4,
 "nbformat_minor": 5
}
